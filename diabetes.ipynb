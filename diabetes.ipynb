{
 "cells": [
  {
   "cell_type": "code",
   "execution_count": 1,
   "id": "8d59d093",
   "metadata": {},
   "outputs": [],
   "source": [
    "# This Python 3 environment comes with many helpful analytics libraries installed\n",
    "# It is defined by the kaggle/python Docker image: https://github.com/kaggle/docker-python\n",
    "# For example, here's several helpful packages to load\n",
    "\n",
    "import numpy as np # linear algebra\n",
    "import pandas as pd # data processing, CSV file I/O (e.g. pd.read_csv)\n",
    "\n",
    "# Input data files are available in the read-only \"../input/\" directory\n",
    "# For example, running this (by clicking run or pressing Shift+Enter) will list all files under the input directory\n",
    "\n",
    "import os\n",
    "for dirname, _, filenames in os.walk('/kaggle/input'):\n",
    "    for filename in filenames:\n",
    "        print(os.path.join(dirname, filename))\n",
    "\n",
    "# You can write up to 20GB to the current directory (/kaggle/working/) that gets preserved as output when you create a version using \"Save & Run All\" \n",
    "# You can also write temporary files to /kaggle/temp/, but they won't be saved outside of the current session"
   ]
  },
  {
   "cell_type": "code",
   "execution_count": 2,
   "id": "b269a37d",
   "metadata": {},
   "outputs": [
    {
     "name": "stdout",
     "output_type": "stream",
     "text": [
      "   Pregnancies  Glucose  BloodPressure  SkinThickness  Insulin   BMI  \\\n",
      "0            2      138             62             35        0  33.6   \n",
      "1            0       84             82             31      125  38.2   \n",
      "2            0      145              0              0        0  44.2   \n",
      "3            0      135             68             42      250  42.3   \n",
      "4            1      139             62             41      480  40.7   \n",
      "\n",
      "   DiabetesPedigreeFunction  Age  Outcome  \n",
      "0                     0.127   47        1  \n",
      "1                     0.233   23        0  \n",
      "2                     0.630   31        1  \n",
      "3                     0.365   24        1  \n",
      "4                     0.536   21        0  \n"
     ]
    }
   ],
   "source": [
    "dataset = pd.read_csv(\"diabetes.csv\")\n",
    "print (dataset.head())"
   ]
  },
  {
   "cell_type": "code",
   "execution_count": 3,
   "id": "7dd53669",
   "metadata": {},
   "outputs": [],
   "source": [
    "from sklearn.model_selection import train_test_split\n",
    "from sklearn.preprocessing import MinMaxScaler\n",
    "from sklearn import preprocessing\n",
    "from sklearn.neighbors import KNeighborsClassifier"
   ]
  },
  {
   "cell_type": "code",
   "execution_count": 4,
   "id": "585e1a17",
   "metadata": {},
   "outputs": [
    {
     "name": "stdout",
     "output_type": "stream",
     "text": [
      "   Pregnancies  Glucose  BloodPressure  SkinThickness  Insulin  BMI  \\\n",
      "0            2       76             16             28        0  120   \n",
      "1            0       22             28             24       78  166   \n",
      "2            0       83              0              0        0  212   \n",
      "3            0       73             20             35      134  199   \n",
      "4            1       77             16             34      172  188   \n",
      "\n",
      "   DiabetesPedigreeFunction  Age  Outcome  \n",
      "0                        18   26        1  \n",
      "1                       102    2        0  \n",
      "2                       343   10        1  \n",
      "3                       203    3        1  \n",
      "4                       298    0        0  \n"
     ]
    }
   ],
   "source": [
    "df = pd.DataFrame(dataset)\n",
    "\n",
    "le = preprocessing.LabelEncoder()\n",
    "df = df.apply(le.fit_transform)\n",
    "\n",
    "print(df.head())"
   ]
  },
  {
   "cell_type": "code",
   "execution_count": 5,
   "id": "32b26947",
   "metadata": {},
   "outputs": [
    {
     "name": "stdout",
     "output_type": "stream",
     "text": [
      "(2000, 8)\n",
      "[2 0 0 ... 6 0 2]\n"
     ]
    }
   ],
   "source": [
    "X = df.iloc[:, 1:10]\n",
    "y = df.iloc[:, 0]\n",
    "y = y.values\n",
    "print(X.shape)\n",
    "\n",
    "print(y)"
   ]
  },
  {
   "cell_type": "code",
   "execution_count": 6,
   "id": "fc3eadaf",
   "metadata": {},
   "outputs": [
    {
     "name": "stdout",
     "output_type": "stream",
     "text": [
      "X before scaling,       Glucose  BloodPressure  SkinThickness  Insulin  BMI  \\\n",
      "0          76             16             28        0  120   \n",
      "1          22             28             24       78  166   \n",
      "2          83              0              0        0  212   \n",
      "3          73             20             35      134  199   \n",
      "4          77             16             34      172  188   \n",
      "...       ...            ...            ...      ...  ...   \n",
      "1995       13             17             17       27   89   \n",
      "1996      117             22             35       83  113   \n",
      "1997       23             26              0        0  102   \n",
      "1998       67             44             39       83  245   \n",
      "1999       19             22              8       46   93   \n",
      "\n",
      "      DiabetesPedigreeFunction  Age  Outcome  \n",
      "0                           18   26        1  \n",
      "1                          102    2        0  \n",
      "2                          343   10        1  \n",
      "3                          203    3        1  \n",
      "4                          298    0        0  \n",
      "...                        ...  ...      ...  \n",
      "1995                       206   12        0  \n",
      "1996                       380   15        1  \n",
      "1997                       214   21        0  \n",
      "1998                       170    5        1  \n",
      "1999                       303    4        0  \n",
      "\n",
      "[2000 rows x 8 columns]\n",
      "X After Scaling [[0.56296296 0.34782609 0.53846154 ... 0.03571429 0.50980392 1.        ]\n",
      " [0.16296296 0.60869565 0.46153846 ... 0.20238095 0.03921569 0.        ]\n",
      " [0.61481481 0.         0.         ... 0.68055556 0.19607843 1.        ]\n",
      " ...\n",
      " [0.17037037 0.56521739 0.         ... 0.42460317 0.41176471 0.        ]\n",
      " [0.4962963  0.95652174 0.75       ... 0.33730159 0.09803922 1.        ]\n",
      " [0.14074074 0.47826087 0.15384615 ... 0.60119048 0.07843137 0.        ]]\n"
     ]
    }
   ],
   "source": [
    "print('X before scaling,', X)\n",
    "scaler = MinMaxScaler()\n",
    "scaler.fit(X)\n",
    "X_scaled = scaler.fit_transform(X)\n",
    "print('X After Scaling', X_scaled)"
   ]
  },
  {
   "cell_type": "code",
   "execution_count": 7,
   "id": "60244a61",
   "metadata": {},
   "outputs": [],
   "source": [
    "X_train, X_test, y_train, y_test = train_test_split(X_scaled, y, test_size=0.2)"
   ]
  },
  {
   "cell_type": "code",
   "execution_count": 8,
   "id": "d7fdcdcc",
   "metadata": {},
   "outputs": [
    {
     "data": {
      "text/html": [
       "<style>#sk-container-id-1 {color: black;background-color: white;}#sk-container-id-1 pre{padding: 0;}#sk-container-id-1 div.sk-toggleable {background-color: white;}#sk-container-id-1 label.sk-toggleable__label {cursor: pointer;display: block;width: 100%;margin-bottom: 0;padding: 0.3em;box-sizing: border-box;text-align: center;}#sk-container-id-1 label.sk-toggleable__label-arrow:before {content: \"▸\";float: left;margin-right: 0.25em;color: #696969;}#sk-container-id-1 label.sk-toggleable__label-arrow:hover:before {color: black;}#sk-container-id-1 div.sk-estimator:hover label.sk-toggleable__label-arrow:before {color: black;}#sk-container-id-1 div.sk-toggleable__content {max-height: 0;max-width: 0;overflow: hidden;text-align: left;background-color: #f0f8ff;}#sk-container-id-1 div.sk-toggleable__content pre {margin: 0.2em;color: black;border-radius: 0.25em;background-color: #f0f8ff;}#sk-container-id-1 input.sk-toggleable__control:checked~div.sk-toggleable__content {max-height: 200px;max-width: 100%;overflow: auto;}#sk-container-id-1 input.sk-toggleable__control:checked~label.sk-toggleable__label-arrow:before {content: \"▾\";}#sk-container-id-1 div.sk-estimator input.sk-toggleable__control:checked~label.sk-toggleable__label {background-color: #d4ebff;}#sk-container-id-1 div.sk-label input.sk-toggleable__control:checked~label.sk-toggleable__label {background-color: #d4ebff;}#sk-container-id-1 input.sk-hidden--visually {border: 0;clip: rect(1px 1px 1px 1px);clip: rect(1px, 1px, 1px, 1px);height: 1px;margin: -1px;overflow: hidden;padding: 0;position: absolute;width: 1px;}#sk-container-id-1 div.sk-estimator {font-family: monospace;background-color: #f0f8ff;border: 1px dotted black;border-radius: 0.25em;box-sizing: border-box;margin-bottom: 0.5em;}#sk-container-id-1 div.sk-estimator:hover {background-color: #d4ebff;}#sk-container-id-1 div.sk-parallel-item::after {content: \"\";width: 100%;border-bottom: 1px solid gray;flex-grow: 1;}#sk-container-id-1 div.sk-label:hover label.sk-toggleable__label {background-color: #d4ebff;}#sk-container-id-1 div.sk-serial::before {content: \"\";position: absolute;border-left: 1px solid gray;box-sizing: border-box;top: 0;bottom: 0;left: 50%;z-index: 0;}#sk-container-id-1 div.sk-serial {display: flex;flex-direction: column;align-items: center;background-color: white;padding-right: 0.2em;padding-left: 0.2em;position: relative;}#sk-container-id-1 div.sk-item {position: relative;z-index: 1;}#sk-container-id-1 div.sk-parallel {display: flex;align-items: stretch;justify-content: center;background-color: white;position: relative;}#sk-container-id-1 div.sk-item::before, #sk-container-id-1 div.sk-parallel-item::before {content: \"\";position: absolute;border-left: 1px solid gray;box-sizing: border-box;top: 0;bottom: 0;left: 50%;z-index: -1;}#sk-container-id-1 div.sk-parallel-item {display: flex;flex-direction: column;z-index: 1;position: relative;background-color: white;}#sk-container-id-1 div.sk-parallel-item:first-child::after {align-self: flex-end;width: 50%;}#sk-container-id-1 div.sk-parallel-item:last-child::after {align-self: flex-start;width: 50%;}#sk-container-id-1 div.sk-parallel-item:only-child::after {width: 0;}#sk-container-id-1 div.sk-dashed-wrapped {border: 1px dashed gray;margin: 0 0.4em 0.5em 0.4em;box-sizing: border-box;padding-bottom: 0.4em;background-color: white;}#sk-container-id-1 div.sk-label label {font-family: monospace;font-weight: bold;display: inline-block;line-height: 1.2em;}#sk-container-id-1 div.sk-label-container {text-align: center;}#sk-container-id-1 div.sk-container {/* jupyter's `normalize.less` sets `[hidden] { display: none; }` but bootstrap.min.css set `[hidden] { display: none !important; }` so we also need the `!important` here to be able to override the default hidden behavior on the sphinx rendered scikit-learn.org. See: https://github.com/scikit-learn/scikit-learn/issues/21755 */display: inline-block !important;position: relative;}#sk-container-id-1 div.sk-text-repr-fallback {display: none;}</style><div id=\"sk-container-id-1\" class=\"sk-top-container\"><div class=\"sk-text-repr-fallback\"><pre>KNeighborsClassifier(n_neighbors=4)</pre><b>In a Jupyter environment, please rerun this cell to show the HTML representation or trust the notebook. <br />On GitHub, the HTML representation is unable to render, please try loading this page with nbviewer.org.</b></div><div class=\"sk-container\" hidden><div class=\"sk-item\"><div class=\"sk-estimator sk-toggleable\"><input class=\"sk-toggleable__control sk-hidden--visually\" id=\"sk-estimator-id-1\" type=\"checkbox\" checked><label for=\"sk-estimator-id-1\" class=\"sk-toggleable__label sk-toggleable__label-arrow\">KNeighborsClassifier</label><div class=\"sk-toggleable__content\"><pre>KNeighborsClassifier(n_neighbors=4)</pre></div></div></div></div></div>"
      ],
      "text/plain": [
       "KNeighborsClassifier(n_neighbors=4)"
      ]
     },
     "execution_count": 8,
     "metadata": {},
     "output_type": "execute_result"
    }
   ],
   "source": [
    "#Mengaktifkan fungsi classifier untuk KNN\n",
    "model = KNeighborsClassifier (n_neighbors=4)\n",
    "#Memasukkan data training pada fungsi untuk KNN\n",
    "model.fit(X_train, y_train)"
   ]
  },
  {
   "cell_type": "code",
   "execution_count": 9,
   "id": "4190d213",
   "metadata": {},
   "outputs": [
    {
     "data": {
      "text/plain": [
       "array([ 0,  0,  1,  1,  1,  4,  0,  4,  3,  0,  0,  6,  0,  1,  1,  1,  5,\n",
       "        5, 10,  7,  6,  0,  0,  5,  7,  8,  3,  7,  8,  1,  3,  5,  4,  2,\n",
       "        3,  0,  9,  1,  4,  6,  0,  4,  6,  1,  0,  1,  4,  1,  1,  2,  4,\n",
       "        3,  3,  0,  1,  1,  0,  7,  6, 10,  6,  2,  1,  8,  6,  1,  2,  0,\n",
       "        1,  0,  7,  2,  2,  4,  2, 12,  7,  5,  1,  3,  7,  2,  0, 12,  1,\n",
       "        1,  1,  6,  0,  0,  2,  1,  1,  1,  0,  1,  0,  0,  4,  5,  0,  3,\n",
       "        4,  4,  1,  1,  0,  1,  2,  9,  9,  4,  2,  8,  0,  2,  0,  7,  0,\n",
       "        8,  0,  1,  9,  2,  0,  0,  2,  8, 11,  4,  3,  0,  7,  3,  4,  0,\n",
       "        5,  7,  3,  0,  3,  7,  4,  2,  1,  7,  1,  8,  2,  5,  7,  0, 12,\n",
       "        2,  4,  1,  2,  4,  1,  0,  1,  0,  1,  1,  1,  1, 13,  1,  7,  3,\n",
       "        8,  3,  4,  7,  0,  7,  1,  7,  0,  0,  4, 12,  7,  5,  5,  0,  0,\n",
       "        0,  3,  1,  3,  4,  7,  1,  0,  7,  0,  5,  2,  1,  3,  5,  1,  1,\n",
       "        1,  0,  0,  3,  4,  1,  2,  7,  1,  1,  0,  1,  9,  2,  2,  1,  0,\n",
       "        3,  8, 13,  3,  0,  3, 12,  5,  4,  1,  4,  5,  0,  5,  3,  0,  1,\n",
       "       10,  3,  1,  0,  1,  6,  0,  9,  2,  1,  7,  1,  0,  1,  7,  0,  1,\n",
       "        0,  0,  0,  1,  0,  3,  4,  0,  0,  7,  7,  3,  2,  2,  0,  1,  8,\n",
       "        2,  1,  5,  7,  1,  5,  1,  2,  2,  5,  5,  3,  7,  2,  1,  6,  0,\n",
       "        0,  1,  5,  0,  7,  1,  3,  0,  6,  2,  4,  3,  4,  0,  1,  3,  1,\n",
       "        0,  1,  3,  1,  5,  4,  3,  2,  0,  1,  1,  0,  1,  5,  5, 12,  1,\n",
       "        2,  1,  0,  1,  0,  1,  2,  1,  5,  1,  1,  0,  1,  0,  1,  7,  5,\n",
       "        7,  0,  1,  3,  0,  2,  2,  2,  4,  4,  0,  2,  0,  1,  8,  9,  8,\n",
       "        4,  5, 10,  0,  0,  1,  7,  1,  1,  1,  2, 10,  6,  2,  5,  1,  2,\n",
       "        1,  1,  4,  0,  1,  0,  6,  6,  6,  1,  0,  3,  1,  8,  4,  1,  4,\n",
       "        4,  1,  3,  5,  6,  3,  1,  3,  6], dtype=int64)"
      ]
     },
     "execution_count": 9,
     "metadata": {},
     "output_type": "execute_result"
    }
   ],
   "source": [
    "y_pred = model.predict (X_test)\n",
    "y_pred"
   ]
  },
  {
   "cell_type": "code",
   "execution_count": 10,
   "id": "ba1964d1",
   "metadata": {},
   "outputs": [
    {
     "data": {
      "text/plain": [
       "array([[1.  , 0.  , 0.  , ..., 0.  , 0.  , 0.  ],\n",
       "       [0.75, 0.  , 0.  , ..., 0.  , 0.  , 0.  ],\n",
       "       [0.  , 0.5 , 0.  , ..., 0.  , 0.  , 0.  ],\n",
       "       ...,\n",
       "       [0.  , 0.5 , 0.5 , ..., 0.  , 0.  , 0.  ],\n",
       "       [0.25, 0.  , 0.  , ..., 0.  , 0.  , 0.  ],\n",
       "       [0.  , 0.  , 0.  , ..., 0.  , 0.  , 0.  ]])"
      ]
     },
     "execution_count": 10,
     "metadata": {},
     "output_type": "execute_result"
    }
   ],
   "source": [
    "#Menentukan probabilitas prediksi\n",
    "model.predict_proba(X_test)"
   ]
  },
  {
   "cell_type": "code",
   "execution_count": 11,
   "id": "01367d82",
   "metadata": {},
   "outputs": [],
   "source": [
    "# Import package untuk melihat keakuratan data prediksi dengan data aktual\n",
    "from sklearn.metrics import classification_report, confusion_matrix"
   ]
  },
  {
   "cell_type": "code",
   "execution_count": 12,
   "id": "3177539a",
   "metadata": {},
   "outputs": [
    {
     "name": "stdout",
     "output_type": "stream",
     "text": [
      "[[42  7  1  2  0  2  1  4  0  0  0  0  0  0]\n",
      " [13 48  5  4  1  4  0  2  0  3  0  0  1  0]\n",
      " [12 16 22  1  5  0  0  1  0  0  1  0  1  0]\n",
      " [ 6  8  2 18  0  2  1  0  0  1  0  0  0  0]\n",
      " [ 5  3  7  4 16  2  2  0  0  0  2  0  0  0]\n",
      " [ 0  3  2  1  3  8  1  1  1  0  0  0  0  1]\n",
      " [ 2  8  0  1  2  3  8  0  0  0  0  0  0  0]\n",
      " [ 2  2  0  3  2  2  3  4  1  0  0  0  1  0]\n",
      " [ 0  1  0  1  1  2  0  5  8  0  0  0  2  0]\n",
      " [ 0  0  0  1  2  0  0  7  3  2  0  0  0  0]\n",
      " [ 0  1  1  0  0  1  0  6  0  0  1  0  0  0]\n",
      " [ 0  1  0  0  1  0  0  1  0  1  1  1  0  0]\n",
      " [ 0  0  0  0  1  0  0  0  0  0  0  0  1  0]\n",
      " [ 0  0  0  0  0  2  1  0  0  0  0  0  0  1]]\n"
     ]
    }
   ],
   "source": [
    "# Menampilkan matriks hasil prediksi\n",
    "print(confusion_matrix(y_test, y_pred))"
   ]
  },
  {
   "cell_type": "code",
   "execution_count": 13,
   "id": "cf31e9de",
   "metadata": {},
   "outputs": [
    {
     "name": "stdout",
     "output_type": "stream",
     "text": [
      "              precision    recall  f1-score   support\n",
      "\n",
      "           0       0.51      0.71      0.60        59\n",
      "           1       0.49      0.59      0.54        81\n",
      "           2       0.55      0.37      0.44        59\n",
      "           3       0.50      0.47      0.49        38\n",
      "           4       0.47      0.39      0.43        41\n",
      "           5       0.29      0.38      0.33        21\n",
      "           6       0.47      0.33      0.39        24\n",
      "           7       0.13      0.20      0.16        20\n",
      "           8       0.62      0.40      0.48        20\n",
      "           9       0.29      0.13      0.18        15\n",
      "          10       0.20      0.10      0.13        10\n",
      "          11       1.00      0.17      0.29         6\n",
      "          12       0.17      0.50      0.25         2\n",
      "          13       0.50      0.25      0.33         4\n",
      "\n",
      "    accuracy                           0.45       400\n",
      "   macro avg       0.44      0.36      0.36       400\n",
      "weighted avg       0.47      0.45      0.44       400\n",
      "\n"
     ]
    }
   ],
   "source": [
    "# Ketepatan hasil prediksi\n",
    "print(classification_report(y_test, y_pred))"
   ]
  },
  {
   "cell_type": "code",
   "execution_count": null,
   "id": "c9f4040e",
   "metadata": {},
   "outputs": [],
   "source": []
  }
 ],
 "metadata": {
  "kernelspec": {
   "display_name": "env",
   "language": "python",
   "name": "python3"
  },
  "language_info": {
   "codemirror_mode": {
    "name": "ipython",
    "version": 3
   },
   "file_extension": ".py",
   "mimetype": "text/x-python",
   "name": "python",
   "nbconvert_exporter": "python",
   "pygments_lexer": "ipython3",
   "version": "3.9.12"
  },
  "vscode": {
   "interpreter": {
    "hash": "1632659b9055e60e5d6d1bcfaac5e37efab9a0bb2b72eead62d439fd9d2b209c"
   }
  }
 },
 "nbformat": 4,
 "nbformat_minor": 5
}
